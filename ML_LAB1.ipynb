{
 "cells": [
  {
   "cell_type": "code",
   "execution_count": 1,
   "metadata": {},
   "outputs": [
    {
     "name": "stdout",
     "output_type": "stream",
     "text": [
      "hello world\n"
     ]
    }
   ],
   "source": [
    "print(\"hello world\")\n"
   ]
  },
  {
   "cell_type": "markdown",
   "metadata": {},
   "source": [
    "# "
   ]
  },
  {
   "cell_type": "code",
   "execution_count": 2,
   "metadata": {},
   "outputs": [
    {
     "name": "stdout",
     "output_type": "stream",
     "text": [
      "10\n"
     ]
    }
   ],
   "source": [
    "a=10\n",
    "print(a)\n"
   ]
  },
  {
   "cell_type": "code",
   "execution_count": 3,
   "metadata": {},
   "outputs": [
    {
     "name": "stdout",
     "output_type": "stream",
     "text": [
      "5\n"
     ]
    }
   ],
   "source": [
    "a=2\n",
    "b=3\n",
    "c=a+b\n",
    "print(c)"
   ]
  },
  {
   "cell_type": "code",
   "execution_count": 4,
   "metadata": {},
   "outputs": [
    {
     "name": "stdout",
     "output_type": "stream",
     "text": [
      "8\n",
      "6\n"
     ]
    }
   ],
   "source": [
    "a=6\n",
    "b=8\n",
    "a=a+b\n",
    "b=a-b\n",
    "a=a-b\n",
    "print(a)\n",
    "print(b)\n",
    " "
   ]
  },
  {
   "cell_type": "code",
   "execution_count": 5,
   "metadata": {},
   "outputs": [
    {
     "ename": "SyntaxError",
     "evalue": "invalid syntax (<ipython-input-5-52663a0ec40a>, line 5)",
     "output_type": "error",
     "traceback": [
      "\u001b[0;36m  File \u001b[0;32m\"<ipython-input-5-52663a0ec40a>\"\u001b[0;36m, line \u001b[0;32m5\u001b[0m\n\u001b[0;31m    elif:\u001b[0m\n\u001b[0m        ^\u001b[0m\n\u001b[0;31mSyntaxError\u001b[0m\u001b[0;31m:\u001b[0m invalid syntax\n"
     ]
    }
   ],
   "source": [
    "a=8\n",
    "b=10\n",
    "if(a>b):\n",
    "    print(\"a is greater\")\n",
    "elif:\n",
    "    print(\"b is greater\")"
   ]
  },
  {
   "cell_type": "code",
   "execution_count": 6,
   "metadata": {},
   "outputs": [
    {
     "name": "stdout",
     "output_type": "stream",
     "text": [
      "b is greater\n"
     ]
    }
   ],
   "source": [
    "a=8\n",
    "b=10\n",
    "if(a>b):\n",
    "    print(\"a is greater\")\n",
    "elif(a<b):\n",
    "    print(\"b is greater\")"
   ]
  },
  {
   "cell_type": "code",
   "execution_count": 7,
   "metadata": {},
   "outputs": [
    {
     "ename": "SyntaxError",
     "evalue": "invalid syntax (<ipython-input-7-245609db294e>, line 1)",
     "output_type": "error",
     "traceback": [
      "\u001b[0;36m  File \u001b[0;32m\"<ipython-input-7-245609db294e>\"\u001b[0;36m, line \u001b[0;32m1\u001b[0m\n\u001b[0;31m    for i in range(10)\u001b[0m\n\u001b[0m                      ^\u001b[0m\n\u001b[0;31mSyntaxError\u001b[0m\u001b[0;31m:\u001b[0m invalid syntax\n"
     ]
    }
   ],
   "source": [
    "for i in range(10)\n",
    "   print(i)"
   ]
  },
  {
   "cell_type": "code",
   "execution_count": 8,
   "metadata": {},
   "outputs": [
    {
     "name": "stdout",
     "output_type": "stream",
     "text": [
      "0\n",
      "1\n",
      "2\n",
      "3\n",
      "4\n",
      "5\n",
      "6\n",
      "7\n",
      "8\n",
      "9\n"
     ]
    }
   ],
   "source": [
    "for i in range(10):\n",
    "   print(i)"
   ]
  },
  {
   "cell_type": "code",
   "execution_count": 9,
   "metadata": {},
   "outputs": [
    {
     "ename": "SyntaxError",
     "evalue": "invalid syntax (<ipython-input-9-27e5267ceafb>, line 11)",
     "output_type": "error",
     "traceback": [
      "\u001b[0;36m  File \u001b[0;32m\"<ipython-input-9-27e5267ceafb>\"\u001b[0;36m, line \u001b[0;32m11\u001b[0m\n\u001b[0;31m    print(\"div:\"a/b)\u001b[0m\n\u001b[0m                ^\u001b[0m\n\u001b[0;31mSyntaxError\u001b[0m\u001b[0;31m:\u001b[0m invalid syntax\n"
     ]
    }
   ],
   "source": [
    "a=int(input(\"enter first operand \"))\n",
    "b=int(input(\"enter second operand\"))\n",
    "d=input(\"enter operator\")\n",
    "if(d == \"+\"):\n",
    "    print(\"sum:\",a+b)\n",
    "elif(d == \"*\"):\n",
    "    print(\"mul:\",a*b)\n",
    "elif(d == \"-\"):\n",
    "    print(\"sub:\",a-b)\n",
    "else:\n",
    "    print(\"div:\"a/b)"
   ]
  },
  {
   "cell_type": "code",
   "execution_count": 10,
   "metadata": {},
   "outputs": [
    {
     "ename": "SyntaxError",
     "evalue": "invalid syntax (<ipython-input-10-19aa1c6af877>, line 11)",
     "output_type": "error",
     "traceback": [
      "\u001b[0;36m  File \u001b[0;32m\"<ipython-input-10-19aa1c6af877>\"\u001b[0;36m, line \u001b[0;32m11\u001b[0m\n\u001b[0;31m    print(\"div:\"a/b)\u001b[0m\n\u001b[0m                ^\u001b[0m\n\u001b[0;31mSyntaxError\u001b[0m\u001b[0;31m:\u001b[0m invalid syntax\n"
     ]
    }
   ],
   "source": [
    "a=int(input(\"enter first operand \"))\n",
    "b=int(input(\"enter second operand\"))\n",
    "d=input(\"enter operator\")\n",
    "if(d == \"+\"):\n",
    "    print(\"sum:\",a+b)\n",
    "elif(d == \"*\"):\n",
    "    print(\"mul:\",a*b)\n",
    "elif(d == \"-\"):\n",
    "    print(\"sub:\",a-b)\n",
    "elif(d ==\"/\"):\n",
    "    print(\"div:\"a/b)\n",
    "else:\n",
    "    print(\"operator does not exist\")"
   ]
  },
  {
   "cell_type": "code",
   "execution_count": 11,
   "metadata": {},
   "outputs": [
    {
     "name": "stdout",
     "output_type": "stream",
     "text": [
      "enter first operand 2\n",
      "enter second operand3\n",
      "enter operator*\n",
      "mul: 6\n"
     ]
    }
   ],
   "source": [
    "a=int(input(\"enter first operand \"))\n",
    "b=int(input(\"enter second operand\"))\n",
    "d=input(\"enter operator\")\n",
    "if(d == \"+\"):\n",
    "    print(\"sum:\",a+b)\n",
    "elif(d == \"*\"):\n",
    "    print(\"mul:\",a*b)\n",
    "elif(d == \"-\"):\n",
    "    print(\"sub:\",a-b)\n",
    "elif(d ==\"/\"):\n",
    "    print(\"div:\",a/b)\n",
    "else:\n",
    "    print(\"operator does not exist\")"
   ]
  },
  {
   "cell_type": "code",
   "execution_count": 12,
   "metadata": {},
   "outputs": [
    {
     "ename": "SyntaxError",
     "evalue": "invalid syntax (<ipython-input-12-19aa1c6af877>, line 11)",
     "output_type": "error",
     "traceback": [
      "\u001b[0;36m  File \u001b[0;32m\"<ipython-input-12-19aa1c6af877>\"\u001b[0;36m, line \u001b[0;32m11\u001b[0m\n\u001b[0;31m    print(\"div:\"a/b)\u001b[0m\n\u001b[0m                ^\u001b[0m\n\u001b[0;31mSyntaxError\u001b[0m\u001b[0;31m:\u001b[0m invalid syntax\n"
     ]
    }
   ],
   "source": [
    "a=int(input(\"enter first operand \"))\n",
    "b=int(input(\"enter second operand\"))\n",
    "d=input(\"enter operator\")\n",
    "if(d == \"+\"):\n",
    "    print(\"sum:\",a+b)\n",
    "elif(d == \"*\"):\n",
    "    print(\"mul:\",a*b)\n",
    "elif(d == \"-\"):\n",
    "    print(\"sub:\",a-b)\n",
    "elif(d ==\"/\"):\n",
    "    print(\"div:\"a/b)\n",
    "else:\n",
    "    print(\"operator does not exist\")"
   ]
  },
  {
   "cell_type": "code",
   "execution_count": 13,
   "metadata": {},
   "outputs": [
    {
     "name": "stdout",
     "output_type": "stream",
     "text": [
      "enter first operand 6\n",
      "enter second operand8\n",
      "enter operator%\n",
      "operator does not exist\n"
     ]
    }
   ],
   "source": [
    "a=int(input(\"enter first operand \"))\n",
    "b=int(input(\"enter second operand\"))\n",
    "d=input(\"enter operator\")\n",
    "if(d == \"+\"):\n",
    "    print(\"sum:\",a+b)\n",
    "elif(d == \"*\"):\n",
    "    print(\"mul:\",a*b)\n",
    "elif(d == \"-\"):\n",
    "    print(\"sub:\",a-b)\n",
    "elif(d ==\"/\"):\n",
    "    print(\"div:\",a/b)\n",
    "else:\n",
    "    print(\"operator does not exist\")"
   ]
  },
  {
   "cell_type": "code",
   "execution_count": 14,
   "metadata": {},
   "outputs": [
    {
     "ename": "SyntaxError",
     "evalue": "invalid syntax (<ipython-input-14-b27dbcc5d521>, line 3)",
     "output_type": "error",
     "traceback": [
      "\u001b[0;36m  File \u001b[0;32m\"<ipython-input-14-b27dbcc5d521>\"\u001b[0;36m, line \u001b[0;32m3\u001b[0m\n\u001b[0;31m    print(\"after concatenating:\"str1+str2)\u001b[0m\n\u001b[0m                                ^\u001b[0m\n\u001b[0;31mSyntaxError\u001b[0m\u001b[0;31m:\u001b[0m invalid syntax\n"
     ]
    }
   ],
   "source": [
    "str1=input(\"enter string1:\")\n",
    "str2=input(\"enter string2:\")\n",
    "print(\"after concatenating:\"str1+str2)"
   ]
  },
  {
   "cell_type": "code",
   "execution_count": 15,
   "metadata": {},
   "outputs": [
    {
     "name": "stdout",
     "output_type": "stream",
     "text": [
      "enter string1:bhyravi\n",
      "enter string2:chandrashekar\n",
      "after concatenating: bhyravichandrashekar\n"
     ]
    }
   ],
   "source": [
    "str1=input(\"enter string1:\")\n",
    "str2=input(\"enter string2:\")\n",
    "print(\"after concatenating:\",str1+str2)"
   ]
  },
  {
   "cell_type": "code",
   "execution_count": 16,
   "metadata": {},
   "outputs": [
    {
     "name": "stdout",
     "output_type": "stream",
     "text": [
      "enter string1:asha\n",
      "enter string2:madguni\n",
      "after concatenating: ashamadguni\n",
      "reverse of string1: ahsa\n",
      "copied string madguni\n"
     ]
    }
   ],
   "source": [
    "str1=input(\"enter string1:\")\n",
    "str2=input(\"enter string2:\")\n",
    "print(\"after concatenating:\",str1+str2)\n",
    "print(\"reverse of string1:\",str1[::-1])\n",
    "str3=str2\n",
    "print(\"copied string\",str3)"
   ]
  },
  {
   "cell_type": "code",
   "execution_count": 17,
   "metadata": {},
   "outputs": [
    {
     "name": "stdout",
     "output_type": "stream",
     "text": [
      "enter string1:anjali\n",
      "enter string2:sharma\n",
      "after concatenating: anjalisharma\n",
      "reverse of string1: ilajna\n",
      "copied string sharma\n"
     ]
    }
   ],
   "source": [
    "str1=input(\"enter string1:\")\n",
    "str2=input(\"enter string2:\")\n",
    "print(\"after concatenating:\",str1+str2)\n",
    "print(\"reverse of string1:\",str1[::-1])\n",
    "str3=str2\n",
    "print(\"copied string\",str3)"
   ]
  },
  {
   "cell_type": "code",
   "execution_count": 18,
   "metadata": {},
   "outputs": [
    {
     "name": "stdout",
     "output_type": "stream",
     "text": [
      "0\n",
      "1\n",
      "2\n",
      "3\n",
      "4\n"
     ]
    }
   ],
   "source": [
    "a=[1,4,5,6,7]\n",
    "for i in range(len(a)):\n",
    "    print(i)"
   ]
  },
  {
   "cell_type": "code",
   "execution_count": 19,
   "metadata": {},
   "outputs": [
    {
     "name": "stdout",
     "output_type": "stream",
     "text": [
      "[1, 4, 5, 6, 7]\n",
      "[1, 4, 5, 6, 7]\n",
      "[1, 4, 5, 6, 7]\n",
      "[1, 4, 5, 6, 7]\n",
      "[1, 4, 5, 6, 7]\n"
     ]
    }
   ],
   "source": [
    "a=[1,4,5,6,7]\n",
    "for i in range(len(a)):\n",
    "    print(a)"
   ]
  },
  {
   "cell_type": "code",
   "execution_count": 20,
   "metadata": {},
   "outputs": [
    {
     "name": "stdout",
     "output_type": "stream",
     "text": [
      "1\n",
      "4\n",
      "5\n",
      "6\n",
      "7\n"
     ]
    }
   ],
   "source": [
    "a=[1,4,5,6,7]\n",
    "for i in range(len(a)):\n",
    "    print(a[i])"
   ]
  },
  {
   "cell_type": "code",
   "execution_count": 21,
   "metadata": {},
   "outputs": [
    {
     "ename": "SyntaxError",
     "evalue": "invalid syntax (<ipython-input-21-1d5d8727c8e6>, line 2)",
     "output_type": "error",
     "traceback": [
      "\u001b[0;36m  File \u001b[0;32m\"<ipython-input-21-1d5d8727c8e6>\"\u001b[0;36m, line \u001b[0;32m2\u001b[0m\n\u001b[0;31m    for i in l1\u001b[0m\n\u001b[0m               ^\u001b[0m\n\u001b[0;31mSyntaxError\u001b[0m\u001b[0;31m:\u001b[0m invalid syntax\n"
     ]
    }
   ],
   "source": [
    "l1=[5,10,15,20,25]\n",
    "for i in l1\n",
    " print(i)"
   ]
  },
  {
   "cell_type": "code",
   "execution_count": 22,
   "metadata": {},
   "outputs": [
    {
     "name": "stdout",
     "output_type": "stream",
     "text": [
      "5\n",
      "10\n",
      "15\n",
      "20\n",
      "25\n"
     ]
    }
   ],
   "source": [
    "l1=[5,10,15,20,25]\n",
    "for i in l1:\n",
    " print(i)"
   ]
  },
  {
   "cell_type": "code",
   "execution_count": 23,
   "metadata": {},
   "outputs": [
    {
     "name": "stdout",
     "output_type": "stream",
     "text": [
      "5\n",
      "10\n",
      "15\n",
      "20\n",
      "25\n",
      "[5, 10, 15, 20, 25, 30]\n"
     ]
    }
   ],
   "source": [
    "l1=[5,10,15,20,25]\n",
    "for i in l1:\n",
    " print(i)\n",
    "l1.append(30)\n",
    "print(l1)\n"
   ]
  },
  {
   "cell_type": "code",
   "execution_count": 24,
   "metadata": {},
   "outputs": [
    {
     "name": "stdout",
     "output_type": "stream",
     "text": [
      "5\n",
      "10\n",
      "15\n",
      "20\n",
      "25\n",
      "[5, 10, 15, 20, 25, 30]\n",
      "[5, 10, 15, 20, 25, 30, 1.5, 4, 'hello', 'welcome']\n"
     ]
    }
   ],
   "source": [
    "l1=[5,10,15,20,25]\n",
    "l2=[1.5,4,\"hello\",\"welcome\"]\n",
    "for i in l1:\n",
    " print(i)\n",
    "l1.append(30)\n",
    "print(l1)\n",
    "print(l1+l2)"
   ]
  },
  {
   "cell_type": "code",
   "execution_count": 25,
   "metadata": {},
   "outputs": [
    {
     "name": "stdout",
     "output_type": "stream",
     "text": [
      "5\n",
      "10\n",
      "15\n",
      "20\n",
      "25\n",
      "[5, 10, 15, 20, 25, 30]\n",
      "[5, 10, 15, 20, 25, 30, 1.5, 4, 'hello', 'welcome']\n",
      "[15, 20]\n"
     ]
    }
   ],
   "source": [
    "l1=[5,10,15,20,25]\n",
    "l2=[1.5,4,\"hello\",\"welcome\"]\n",
    "for i in l1:\n",
    " print(i)\n",
    "l1.append(30)\n",
    "print(l1)\n",
    "print(l1+l2)\n",
    "print(l1[2:4])\n"
   ]
  },
  {
   "cell_type": "code",
   "execution_count": 26,
   "metadata": {},
   "outputs": [
    {
     "name": "stdout",
     "output_type": "stream",
     "text": [
      "5\n",
      "10\n",
      "15\n",
      "20\n",
      "25\n",
      "[5, 10, 15, 20, 25, 30]\n",
      "[5, 10, 15, 20, 25, 30, 1.5, 4, 'hello', 'welcome']\n",
      "[15, 20, 25]\n"
     ]
    }
   ],
   "source": [
    "l1=[5,10,15,20,25]\n",
    "l2=[1.5,4,\"hello\",\"welcome\"]\n",
    "for i in l1:\n",
    " print(i)\n",
    "l1.append(30)\n",
    "print(l1)\n",
    "print(l1+l2)\n",
    "print(l1[2:-1])\n"
   ]
  },
  {
   "cell_type": "code",
   "execution_count": 27,
   "metadata": {},
   "outputs": [
    {
     "name": "stdout",
     "output_type": "stream",
     "text": [
      "5\n",
      "10\n",
      "15\n",
      "20\n",
      "25\n",
      "[5, 10, 15, 20, 25, 30]\n",
      "[5, 10, 15, 20, 25, 30, 1.5, 4, 'hello', 'welcome']\n",
      "[]\n"
     ]
    }
   ],
   "source": [
    "l1=[5,10,15,20,25]\n",
    "l2=[1.5,4,\"hello\",\"welcome\"]\n",
    "for i in l1:\n",
    " print(i)\n",
    "l1.append(30)\n",
    "print(l1)\n",
    "print(l1+l2)\n",
    "print(l1[-1:4])\n"
   ]
  },
  {
   "cell_type": "code",
   "execution_count": 28,
   "metadata": {},
   "outputs": [
    {
     "name": "stdout",
     "output_type": "stream",
     "text": [
      "5\n",
      "10\n",
      "15\n",
      "20\n",
      "25\n",
      "[5, 10, 15, 20, 25, 30]\n",
      "[5, 10, 15, 20, 25, 30, 1.5, 4, 'hello', 'welcome']\n",
      "[]\n",
      "[5, 10, 15, 20, 25, 30]\n"
     ]
    }
   ],
   "source": [
    "l1=[5,10,15,20,25]\n",
    "l2=[1.5,4,\"hello\",\"welcome\"]\n",
    "for i in l1:\n",
    " print(i)\n",
    "l1.append(30)\n",
    "print(l1)\n",
    "print(l1+l2)\n",
    "print(l1[-1:4])\n",
    "l3=l1\n",
    "print(l3)"
   ]
  },
  {
   "cell_type": "code",
   "execution_count": 29,
   "metadata": {},
   "outputs": [
    {
     "name": "stdout",
     "output_type": "stream",
     "text": [
      "5\n",
      "10\n",
      "15\n",
      "20\n",
      "25\n"
     ]
    },
    {
     "ename": "AttributeError",
     "evalue": "'tuple' object has no attribute 'append'",
     "output_type": "error",
     "traceback": [
      "\u001b[0;31m---------------------------------------------------------------------------\u001b[0m",
      "\u001b[0;31mAttributeError\u001b[0m                            Traceback (most recent call last)",
      "\u001b[0;32m<ipython-input-29-1c33864d1010>\u001b[0m in \u001b[0;36m<module>\u001b[0;34m\u001b[0m\n\u001b[1;32m      3\u001b[0m \u001b[0;32mfor\u001b[0m \u001b[0mi\u001b[0m \u001b[0;32min\u001b[0m \u001b[0ml1\u001b[0m\u001b[0;34m:\u001b[0m\u001b[0;34m\u001b[0m\u001b[0;34m\u001b[0m\u001b[0m\n\u001b[1;32m      4\u001b[0m  \u001b[0mprint\u001b[0m\u001b[0;34m(\u001b[0m\u001b[0mi\u001b[0m\u001b[0;34m)\u001b[0m\u001b[0;34m\u001b[0m\u001b[0;34m\u001b[0m\u001b[0m\n\u001b[0;32m----> 5\u001b[0;31m \u001b[0ml1\u001b[0m\u001b[0;34m.\u001b[0m\u001b[0mappend\u001b[0m\u001b[0;34m(\u001b[0m\u001b[0;36m30\u001b[0m\u001b[0;34m)\u001b[0m\u001b[0;34m\u001b[0m\u001b[0;34m\u001b[0m\u001b[0m\n\u001b[0m\u001b[1;32m      6\u001b[0m \u001b[0mprint\u001b[0m\u001b[0;34m(\u001b[0m\u001b[0ml1\u001b[0m\u001b[0;34m)\u001b[0m\u001b[0;34m\u001b[0m\u001b[0;34m\u001b[0m\u001b[0m\n\u001b[1;32m      7\u001b[0m \u001b[0mprint\u001b[0m\u001b[0;34m(\u001b[0m\u001b[0ml1\u001b[0m\u001b[0;34m+\u001b[0m\u001b[0ml2\u001b[0m\u001b[0;34m)\u001b[0m\u001b[0;34m\u001b[0m\u001b[0;34m\u001b[0m\u001b[0m\n",
      "\u001b[0;31mAttributeError\u001b[0m: 'tuple' object has no attribute 'append'"
     ]
    }
   ],
   "source": [
    "l1=(5,10,15,20,25)\n",
    "l2=(1.5,4,\"hello\",\"welcome\")\n",
    "for i in l1:\n",
    " print(i)\n",
    "l1.append(30)\n",
    "print(l1)\n",
    "print(l1+l2)\n",
    "print(l1[-1:4])\n",
    "l3=l1\n",
    "print(l3)"
   ]
  },
  {
   "cell_type": "code",
   "execution_count": 30,
   "metadata": {},
   "outputs": [
    {
     "name": "stdout",
     "output_type": "stream",
     "text": [
      "5\n",
      "10\n",
      "15\n",
      "20\n",
      "25\n",
      "(5, 10, 15, 20, 25, 1.5, 4, 'hello', 'welcome')\n",
      "()\n",
      "(5, 10, 15, 20, 25)\n"
     ]
    }
   ],
   "source": [
    "l1=(5,10,15,20,25)\n",
    "l2=(1.5,4,\"hello\",\"welcome\")\n",
    "for i in l1:\n",
    " print(i)\n",
    "\n",
    "print(l1+l2)\n",
    "print(l1[-1:4])\n",
    "l3=l1\n",
    "print(l3)"
   ]
  },
  {
   "cell_type": "code",
   "execution_count": 31,
   "metadata": {},
   "outputs": [
    {
     "name": "stdout",
     "output_type": "stream",
     "text": [
      "20\n",
      "24\n",
      "28\n"
     ]
    }
   ],
   "source": [
    "dict1={5:20,6:24,7:28}\n",
    "dict2={\"one\":100,\"two\":200,\"three\":300}\n",
    "for key in dict1:\n",
    "    print(dict1[key])"
   ]
  }
 ],
 "metadata": {
  "kernelspec": {
   "display_name": "Python 3",
   "language": "python",
   "name": "python3"
  },
  "language_info": {
   "codemirror_mode": {
    "name": "ipython",
    "version": 3
   },
   "file_extension": ".py",
   "mimetype": "text/x-python",
   "name": "python",
   "nbconvert_exporter": "python",
   "pygments_lexer": "ipython3",
   "version": "3.8.5"
  }
 },
 "nbformat": 4,
 "nbformat_minor": 4
}

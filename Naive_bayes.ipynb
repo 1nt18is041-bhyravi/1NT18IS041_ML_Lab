{
  "nbformat": 4,
  "nbformat_minor": 0,
  "metadata": {
    "colab": {
      "name": "Naive bayes.ipynb",
      "provenance": []
    },
    "kernelspec": {
      "name": "python3",
      "display_name": "Python 3"
    },
    "language_info": {
      "name": "python"
    }
  },
  "cells": [
    {
      "cell_type": "code",
      "execution_count": 18,
      "metadata": {
        "id": "8KRqVaeOTZdC"
      },
      "outputs": [],
      "source": [
        "import pandas as pd\n",
        "import numpy as np\n",
        "\n",
        "data = pd.read_csv('/content/covid.csv')\n"
      ]
    },
    {
      "cell_type": "code",
      "source": [
        "data.head()"
      ],
      "metadata": {
        "colab": {
          "base_uri": "https://localhost:8080/",
          "height": 206
        },
        "id": "mxnfzD6-WNPs",
        "outputId": "070bd6f1-cf29-4433-8889-fac643844b65"
      },
      "execution_count": 19,
      "outputs": [
        {
          "output_type": "execute_result",
          "data": {
            "text/html": [
              "\n",
              "  <div id=\"df-8b89d3e4-e149-4981-823a-c5872ed0cf79\">\n",
              "    <div class=\"colab-df-container\">\n",
              "      <div>\n",
              "<style scoped>\n",
              "    .dataframe tbody tr th:only-of-type {\n",
              "        vertical-align: middle;\n",
              "    }\n",
              "\n",
              "    .dataframe tbody tr th {\n",
              "        vertical-align: top;\n",
              "    }\n",
              "\n",
              "    .dataframe thead th {\n",
              "        text-align: right;\n",
              "    }\n",
              "</style>\n",
              "<table border=\"1\" class=\"dataframe\">\n",
              "  <thead>\n",
              "    <tr style=\"text-align: right;\">\n",
              "      <th></th>\n",
              "      <th>no</th>\n",
              "      <th>pc</th>\n",
              "      <th>wbc</th>\n",
              "      <th>mc</th>\n",
              "      <th>ast</th>\n",
              "      <th>bc</th>\n",
              "      <th>ldh</th>\n",
              "      <th>diagnosis</th>\n",
              "    </tr>\n",
              "  </thead>\n",
              "  <tbody>\n",
              "    <tr>\n",
              "      <th>0</th>\n",
              "      <td>1</td>\n",
              "      <td>Low</td>\n",
              "      <td>Low</td>\n",
              "      <td>Low</td>\n",
              "      <td>High</td>\n",
              "      <td>Normal</td>\n",
              "      <td>Normal</td>\n",
              "      <td>True</td>\n",
              "    </tr>\n",
              "    <tr>\n",
              "      <th>1</th>\n",
              "      <td>2</td>\n",
              "      <td>Low</td>\n",
              "      <td>Low</td>\n",
              "      <td>Normal</td>\n",
              "      <td>High</td>\n",
              "      <td>Normal</td>\n",
              "      <td>High</td>\n",
              "      <td>True</td>\n",
              "    </tr>\n",
              "    <tr>\n",
              "      <th>2</th>\n",
              "      <td>3</td>\n",
              "      <td>Low</td>\n",
              "      <td>High</td>\n",
              "      <td>Normal</td>\n",
              "      <td>High</td>\n",
              "      <td>Normal</td>\n",
              "      <td>Normal</td>\n",
              "      <td>False</td>\n",
              "    </tr>\n",
              "    <tr>\n",
              "      <th>3</th>\n",
              "      <td>4</td>\n",
              "      <td>Low</td>\n",
              "      <td>High</td>\n",
              "      <td>Normal</td>\n",
              "      <td>High</td>\n",
              "      <td>High</td>\n",
              "      <td>Normal</td>\n",
              "      <td>True</td>\n",
              "    </tr>\n",
              "    <tr>\n",
              "      <th>4</th>\n",
              "      <td>5</td>\n",
              "      <td>Low</td>\n",
              "      <td>Normal</td>\n",
              "      <td>High</td>\n",
              "      <td>High</td>\n",
              "      <td>Normal</td>\n",
              "      <td>Normal</td>\n",
              "      <td>False</td>\n",
              "    </tr>\n",
              "  </tbody>\n",
              "</table>\n",
              "</div>\n",
              "      <button class=\"colab-df-convert\" onclick=\"convertToInteractive('df-8b89d3e4-e149-4981-823a-c5872ed0cf79')\"\n",
              "              title=\"Convert this dataframe to an interactive table.\"\n",
              "              style=\"display:none;\">\n",
              "        \n",
              "  <svg xmlns=\"http://www.w3.org/2000/svg\" height=\"24px\"viewBox=\"0 0 24 24\"\n",
              "       width=\"24px\">\n",
              "    <path d=\"M0 0h24v24H0V0z\" fill=\"none\"/>\n",
              "    <path d=\"M18.56 5.44l.94 2.06.94-2.06 2.06-.94-2.06-.94-.94-2.06-.94 2.06-2.06.94zm-11 1L8.5 8.5l.94-2.06 2.06-.94-2.06-.94L8.5 2.5l-.94 2.06-2.06.94zm10 10l.94 2.06.94-2.06 2.06-.94-2.06-.94-.94-2.06-.94 2.06-2.06.94z\"/><path d=\"M17.41 7.96l-1.37-1.37c-.4-.4-.92-.59-1.43-.59-.52 0-1.04.2-1.43.59L10.3 9.45l-7.72 7.72c-.78.78-.78 2.05 0 2.83L4 21.41c.39.39.9.59 1.41.59.51 0 1.02-.2 1.41-.59l7.78-7.78 2.81-2.81c.8-.78.8-2.07 0-2.86zM5.41 20L4 18.59l7.72-7.72 1.47 1.35L5.41 20z\"/>\n",
              "  </svg>\n",
              "      </button>\n",
              "      \n",
              "  <style>\n",
              "    .colab-df-container {\n",
              "      display:flex;\n",
              "      flex-wrap:wrap;\n",
              "      gap: 12px;\n",
              "    }\n",
              "\n",
              "    .colab-df-convert {\n",
              "      background-color: #E8F0FE;\n",
              "      border: none;\n",
              "      border-radius: 50%;\n",
              "      cursor: pointer;\n",
              "      display: none;\n",
              "      fill: #1967D2;\n",
              "      height: 32px;\n",
              "      padding: 0 0 0 0;\n",
              "      width: 32px;\n",
              "    }\n",
              "\n",
              "    .colab-df-convert:hover {\n",
              "      background-color: #E2EBFA;\n",
              "      box-shadow: 0px 1px 2px rgba(60, 64, 67, 0.3), 0px 1px 3px 1px rgba(60, 64, 67, 0.15);\n",
              "      fill: #174EA6;\n",
              "    }\n",
              "\n",
              "    [theme=dark] .colab-df-convert {\n",
              "      background-color: #3B4455;\n",
              "      fill: #D2E3FC;\n",
              "    }\n",
              "\n",
              "    [theme=dark] .colab-df-convert:hover {\n",
              "      background-color: #434B5C;\n",
              "      box-shadow: 0px 1px 3px 1px rgba(0, 0, 0, 0.15);\n",
              "      filter: drop-shadow(0px 1px 2px rgba(0, 0, 0, 0.3));\n",
              "      fill: #FFFFFF;\n",
              "    }\n",
              "  </style>\n",
              "\n",
              "      <script>\n",
              "        const buttonEl =\n",
              "          document.querySelector('#df-8b89d3e4-e149-4981-823a-c5872ed0cf79 button.colab-df-convert');\n",
              "        buttonEl.style.display =\n",
              "          google.colab.kernel.accessAllowed ? 'block' : 'none';\n",
              "\n",
              "        async function convertToInteractive(key) {\n",
              "          const element = document.querySelector('#df-8b89d3e4-e149-4981-823a-c5872ed0cf79');\n",
              "          const dataTable =\n",
              "            await google.colab.kernel.invokeFunction('convertToInteractive',\n",
              "                                                     [key], {});\n",
              "          if (!dataTable) return;\n",
              "\n",
              "          const docLinkHtml = 'Like what you see? Visit the ' +\n",
              "            '<a target=\"_blank\" href=https://colab.research.google.com/notebooks/data_table.ipynb>data table notebook</a>'\n",
              "            + ' to learn more about interactive tables.';\n",
              "          element.innerHTML = '';\n",
              "          dataTable['output_type'] = 'display_data';\n",
              "          await google.colab.output.renderOutput(dataTable, element);\n",
              "          const docLink = document.createElement('div');\n",
              "          docLink.innerHTML = docLinkHtml;\n",
              "          element.appendChild(docLink);\n",
              "        }\n",
              "      </script>\n",
              "    </div>\n",
              "  </div>\n",
              "  "
            ],
            "text/plain": [
              "   no   pc     wbc      mc   ast      bc     ldh  diagnosis\n",
              "0   1  Low     Low     Low  High  Normal  Normal       True\n",
              "1   2  Low     Low  Normal  High  Normal    High       True\n",
              "2   3  Low    High  Normal  High  Normal  Normal      False\n",
              "3   4  Low    High  Normal  High    High  Normal       True\n",
              "4   5  Low  Normal    High  High  Normal  Normal      False"
            ]
          },
          "metadata": {},
          "execution_count": 19
        }
      ]
    },
    {
      "cell_type": "code",
      "source": [
        "from sklearn import preprocessing\n",
        "le = preprocessing.LabelEncoder()\n",
        "pc_encoded=le.fit_transform(data['pc'].values)\n",
        "wbc_encoded=le.fit_transform(data['wbc'].values)\n",
        "mc_encoded=le.fit_transform(data['mc'].values)\n",
        "ast_encoded=le.fit_transform(data['ast'].values)\n",
        "bc_encoded=le.fit_transform(data['bc'].values)\n",
        "ldh_encoded=le.fit_transform(data['ldh'].values)\n",
        "Y=le.fit_transform(data['diagnosis'].values)"
      ],
      "metadata": {
        "id": "XpfalzZKT_e8"
      },
      "execution_count": 20,
      "outputs": []
    },
    {
      "cell_type": "code",
      "source": [
        "X=np.array(list(zip(pc_encoded,wbc_encoded,mc_encoded,ast_encoded,bc_encoded,ldh_encoded)))"
      ],
      "metadata": {
        "id": "yY-V84BDVXAC"
      },
      "execution_count": 21,
      "outputs": []
    },
    {
      "cell_type": "code",
      "source": [
        "X\n"
      ],
      "metadata": {
        "colab": {
          "base_uri": "https://localhost:8080/"
        },
        "id": "85fB8JGJVcNC",
        "outputId": "52ee49c5-66a5-4053-c4e1-9d56cfffe97b"
      },
      "execution_count": 22,
      "outputs": [
        {
          "output_type": "execute_result",
          "data": {
            "text/plain": [
              "array([[1, 1, 1, 0, 1, 1],\n",
              "       [1, 1, 2, 0, 1, 0],\n",
              "       [1, 0, 2, 0, 1, 1],\n",
              "       [1, 0, 2, 0, 0, 1],\n",
              "       [1, 2, 0, 0, 1, 1],\n",
              "       [1, 2, 2, 0, 1, 0],\n",
              "       [2, 1, 1, 0, 1, 1],\n",
              "       [2, 0, 2, 0, 1, 1],\n",
              "       [2, 0, 2, 0, 0, 0],\n",
              "       [2, 2, 0, 0, 1, 1],\n",
              "       [2, 2, 0, 0, 1, 0],\n",
              "       [0, 1, 1, 1, 1, 1],\n",
              "       [0, 2, 0, 1, 1, 1],\n",
              "       [0, 2, 0, 1, 0, 0],\n",
              "       [0, 0, 2, 1, 1, 0],\n",
              "       [1, 2, 0, 0, 0, 1],\n",
              "       [2, 2, 0, 0, 0, 1],\n",
              "       [0, 1, 1, 1, 1, 0],\n",
              "       [2, 2, 2, 0, 1, 1],\n",
              "       [2, 0, 2, 0, 1, 0],\n",
              "       [2, 1, 2, 0, 1, 0],\n",
              "       [1, 0, 2, 0, 0, 0],\n",
              "       [1, 1, 1, 0, 0, 0],\n",
              "       [0, 0, 2, 1, 1, 1],\n",
              "       [0, 2, 2, 1, 1, 1]])"
            ]
          },
          "metadata": {},
          "execution_count": 22
        }
      ]
    },
    {
      "cell_type": "code",
      "source": [
        "Y"
      ],
      "metadata": {
        "colab": {
          "base_uri": "https://localhost:8080/"
        },
        "id": "U863fFOsVhMY",
        "outputId": "8d3a5790-dce8-4910-95c9-0d110d645b6b"
      },
      "execution_count": 23,
      "outputs": [
        {
          "output_type": "execute_result",
          "data": {
            "text/plain": [
              "array([1, 1, 0, 1, 0, 1, 1, 0, 1, 0, 1, 1, 0, 1, 1, 0, 0, 1, 0, 1, 1, 1,\n",
              "       1, 1, 0])"
            ]
          },
          "metadata": {},
          "execution_count": 23
        }
      ]
    },
    {
      "cell_type": "code",
      "source": [
        "from sklearn.naive_bayes import MultinomialNB\n",
        "from sklearn.metrics import accuracy_score\n",
        "from sklearn.metrics import classification_report\n",
        "model = MultinomialNB()"
      ],
      "metadata": {
        "id": "UZYiQaUHVnYp"
      },
      "execution_count": 24,
      "outputs": []
    },
    {
      "cell_type": "code",
      "source": [
        "from sklearn.model_selection import train_test_split\n",
        "X_train,X_test,Y_train,Y_test=train_test_split(X,Y)"
      ],
      "metadata": {
        "id": "czMO8ya_Vr9s"
      },
      "execution_count": 25,
      "outputs": []
    },
    {
      "cell_type": "code",
      "source": [
        "model.fit(X_train, Y_train)\n",
        "y_pred = model.predict(X_test)"
      ],
      "metadata": {
        "id": "nFdNSCTzVxIQ"
      },
      "execution_count": 26,
      "outputs": []
    },
    {
      "cell_type": "code",
      "source": [
        "print(\"Accuracy:\",accuracy_score(Y_test, y_pred))"
      ],
      "metadata": {
        "colab": {
          "base_uri": "https://localhost:8080/"
        },
        "id": "6cBPxffqV1qu",
        "outputId": "2df7a5cf-32b4-44e5-a2c2-dad90954e831"
      },
      "execution_count": 27,
      "outputs": [
        {
          "output_type": "stream",
          "name": "stdout",
          "text": [
            "Accuracy: 0.8571428571428571\n"
          ]
        }
      ]
    },
    {
      "cell_type": "code",
      "source": [
        "print(\"\\nReport\")\n",
        "print(classification_report(Y_test,y_pred))"
      ],
      "metadata": {
        "colab": {
          "base_uri": "https://localhost:8080/"
        },
        "id": "_wkbI4b7WC6A",
        "outputId": "10bb8da5-dff1-434c-cf0e-40dba0d1ef5e"
      },
      "execution_count": 28,
      "outputs": [
        {
          "output_type": "stream",
          "name": "stdout",
          "text": [
            "\n",
            "Report\n",
            "              precision    recall  f1-score   support\n",
            "\n",
            "           0       1.00      0.67      0.80         3\n",
            "           1       0.80      1.00      0.89         4\n",
            "\n",
            "    accuracy                           0.86         7\n",
            "   macro avg       0.90      0.83      0.84         7\n",
            "weighted avg       0.89      0.86      0.85         7\n",
            "\n"
          ]
        }
      ]
    }
  ]
}
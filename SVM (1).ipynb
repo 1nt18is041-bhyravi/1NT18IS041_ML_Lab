{
  "nbformat": 4,
  "nbformat_minor": 0,
  "metadata": {
    "colab": {
      "name": "SVM.ipynb",
      "provenance": []
    },
    "kernelspec": {
      "name": "python3",
      "display_name": "Python 3"
    },
    "language_info": {
      "name": "python"
    }
  },
  "cells": [
    {
      "cell_type": "code",
      "execution_count": 1,
      "metadata": {
        "colab": {
          "base_uri": "https://localhost:8080/"
        },
        "id": "8hqfHVwvPTY4",
        "outputId": "bc5df8e9-96ba-4cfa-bb07-04db4b0d38ba"
      },
      "outputs": [
        {
          "output_type": "stream",
          "name": "stdout",
          "text": [
            "w=  [[ 0.25 -0.25]]\n",
            "b=  [-0.75]\n",
            "Indices of support vectors =  [2 3]\n",
            "Support vectors =  [[ 2.  3.]\n",
            " [ 6. -1.]]\n",
            "Number of support vectors for each class =  [1 1]\n",
            "Coefficients of the support vector in the decision function =  [[0.0625 0.0625]]\n"
          ]
        }
      ],
      "source": [
        "from sklearn.svm import SVC\n",
        "import numpy as np\n",
        "\n",
        "x=np.array([[3,4],[1,4],[2,3],[6,-1],[7,-1],[5,-3]])\n",
        "y=np.array([-1,-1,-1,1,1,1])\n",
        "\n",
        "clf=SVC(C=1e5,kernel='linear')\n",
        "clf.fit(x,y)\n",
        "\n",
        "print('w= ',clf.coef_)\n",
        "print('b= ',clf.intercept_)\n",
        "print('Indices of support vectors = ',clf.support_)\n",
        "print('Support vectors = ',clf.support_vectors_)\n",
        "print('Number of support vectors for each class = ',clf.n_support_)\n",
        "print('Coefficients of the support vector in the decision function = ',np.abs(clf.dual_coef_))"
      ]
    },
    {
      "cell_type": "code",
      "source": [
        "import numpy as np\n",
        "import pandas as pd\n",
        "from matplotlib import pyplot as plt\n",
        "df=pd.read_csv(\"/content/glass.csv\")\n",
        "print(df)"
      ],
      "metadata": {
        "colab": {
          "base_uri": "https://localhost:8080/"
        },
        "id": "_YCr_5IJPiz2",
        "outputId": "c4a11ff3-0928-4b9d-e2fe-fed9e5ebe1d4"
      },
      "execution_count": 2,
      "outputs": [
        {
          "output_type": "stream",
          "name": "stdout",
          "text": [
            "      Id       RI     Na    Mg    Al    Si      K    Ca    Ba   Fe  Type\n",
            "0      1  1.52101  13.64  4.49  1.10  71.78  0.06  8.75  0.00  0.0     1\n",
            "1      2  1.51761  13.89  3.60  1.36  72.73  0.48  7.83  0.00  0.0     1\n",
            "2      3  1.51618  13.53  3.55  1.54  72.99  0.39  7.78  0.00  0.0     1\n",
            "3      4  1.51766  13.21  3.69  1.29  72.61  0.57  8.22  0.00  0.0     1\n",
            "4      5  1.51742  13.27  3.62  1.24  73.08  0.55  8.07  0.00  0.0     1\n",
            "..   ...      ...    ...   ...   ...    ...   ...   ...   ...  ...   ...\n",
            "209  210  1.51623  14.14  0.00  2.88  72.61  0.08  9.18  1.06  0.0     7\n",
            "210  211  1.51685  14.92  0.00  1.99  73.06  0.00  8.40  1.59  0.0     7\n",
            "211  212  1.52065  14.36  0.00  2.02  73.42  0.00  8.44  1.64  0.0     7\n",
            "212  213  1.51651  14.38  0.00  1.94  73.61  0.00  8.48  1.57  0.0     7\n",
            "213  214  1.51711  14.23  0.00  2.08  73.36  0.00  8.62  1.67  0.0     7\n",
            "\n",
            "[214 rows x 11 columns]\n"
          ]
        }
      ]
    },
    {
      "cell_type": "code",
      "source": [
        "from sklearn.preprocessing import StandardScaler\n",
        "scaler = StandardScaler()\n",
        "print(scaler.fit_transform(df))"
      ],
      "metadata": {
        "colab": {
          "base_uri": "https://localhost:8080/"
        },
        "id": "4-Fy5RO1Psni",
        "outputId": "bf7d54f5-cbc9-49c0-de1a-ef5181aa3836"
      },
      "execution_count": 3,
      "outputs": [
        {
          "output_type": "stream",
          "name": "stdout",
          "text": [
            "[[-1.72397593  0.87286765  0.28495326 ... -0.35287683 -0.5864509\n",
            "  -0.84827468]\n",
            " [-1.70778837 -0.24933347  0.59181718 ... -0.35287683 -0.5864509\n",
            "  -0.84827468]\n",
            " [-1.6916008  -0.72131806  0.14993314 ... -0.35287683 -0.5864509\n",
            "  -0.84827468]\n",
            " ...\n",
            " [ 1.6916008   0.75404635  1.16872135 ...  2.95320036 -0.5864509\n",
            "   2.01047778]\n",
            " [ 1.70778837 -0.61239854  1.19327046 ...  2.81208731 -0.5864509\n",
            "   2.01047778]\n",
            " [ 1.72397593 -0.41436305  1.00915211 ...  3.01367739 -0.5864509\n",
            "   2.01047778]]\n"
          ]
        }
      ]
    },
    {
      "cell_type": "code",
      "source": [
        "x=df.drop('Type',axis=1)\n",
        "y=df.Type"
      ],
      "metadata": {
        "id": "z8u9fVjAP2If"
      },
      "execution_count": 4,
      "outputs": []
    },
    {
      "cell_type": "code",
      "source": [
        "from sklearn.model_selection import train_test_split\n",
        "x_train,x_test,y_train,y_test=train_test_split(x,y,test_size=0.3)"
      ],
      "metadata": {
        "id": "nk4LtbBwP8ar"
      },
      "execution_count": 5,
      "outputs": []
    },
    {
      "cell_type": "code",
      "source": [
        "from sklearn import svm\n",
        "ml=svm.SVC(kernel='linear')\n",
        "ml.fit(x_train,y_train)"
      ],
      "metadata": {
        "colab": {
          "base_uri": "https://localhost:8080/"
        },
        "id": "Q3nFhc1vP-Jk",
        "outputId": "af66a41b-e2a5-4631-ea58-76aeee45a0ad"
      },
      "execution_count": 6,
      "outputs": [
        {
          "output_type": "execute_result",
          "data": {
            "text/plain": [
              "SVC(kernel='linear')"
            ]
          },
          "metadata": {},
          "execution_count": 6
        }
      ]
    },
    {
      "cell_type": "code",
      "source": [
        "print(ml.support_vectors_)"
      ],
      "metadata": {
        "colab": {
          "base_uri": "https://localhost:8080/"
        },
        "id": "scV16CR8QEph",
        "outputId": "cefd244e-6240-4c20-e345-8623ccdb247e"
      },
      "execution_count": 7,
      "outputs": [
        {
          "output_type": "stream",
          "name": "stdout",
          "text": [
            "[[7.00000e+01 1.52300e+00 1.33100e+01 3.58000e+00 8.20000e-01 7.19900e+01\n",
            "  1.20000e-01 1.01700e+01 0.00000e+00 3.00000e-02]\n",
            " [7.20000e+01 1.51848e+00 1.36400e+01 3.87000e+00 1.27000e+00 7.19600e+01\n",
            "  5.40000e-01 8.32000e+00 0.00000e+00 3.20000e-01]\n",
            " [1.46000e+02 1.51839e+00 1.28500e+01 3.67000e+00 1.24000e+00 7.25700e+01\n",
            "  6.20000e-01 8.68000e+00 0.00000e+00 3.50000e-01]\n",
            " [1.47000e+02 1.51769e+00 1.36500e+01 3.66000e+00 1.11000e+00 7.27700e+01\n",
            "  1.10000e-01 8.60000e+00 0.00000e+00 0.00000e+00]\n",
            " [1.62000e+02 1.51934e+00 1.36400e+01 3.54000e+00 7.50000e-01 7.26500e+01\n",
            "  1.60000e-01 8.89000e+00 1.50000e-01 2.40000e-01]\n",
            " [1.75000e+02 1.52058e+00 1.28500e+01 1.61000e+00 2.17000e+00 7.21800e+01\n",
            "  7.60000e-01 9.70000e+00 2.40000e-01 5.10000e-01]\n",
            " [1.68000e+02 1.51969e+00 1.26400e+01 0.00000e+00 1.65000e+00 7.37500e+01\n",
            "  3.80000e-01 1.15300e+01 0.00000e+00 0.00000e+00]\n",
            " [1.83000e+02 1.51916e+00 1.41500e+01 0.00000e+00 2.09000e+00 7.27400e+01\n",
            "  0.00000e+00 1.08800e+01 0.00000e+00 0.00000e+00]\n",
            " [1.77000e+02 1.51905e+00 1.40000e+01 2.39000e+00 1.56000e+00 7.23700e+01\n",
            "  0.00000e+00 9.57000e+00 0.00000e+00 0.00000e+00]\n",
            " [1.85000e+02 1.51115e+00 1.73800e+01 0.00000e+00 3.40000e-01 7.54100e+01\n",
            "  0.00000e+00 6.65000e+00 0.00000e+00 0.00000e+00]\n",
            " [1.88000e+02 1.52315e+00 1.34400e+01 3.34000e+00 1.23000e+00 7.23800e+01\n",
            "  6.00000e-01 8.83000e+00 0.00000e+00 0.00000e+00]\n",
            " [1.92000e+02 1.51602e+00 1.48500e+01 0.00000e+00 2.38000e+00 7.32800e+01\n",
            "  0.00000e+00 8.76000e+00 6.40000e-01 9.00000e-02]\n",
            " [1.89000e+02 1.52247e+00 1.48600e+01 2.20000e+00 2.06000e+00 7.02600e+01\n",
            "  7.60000e-01 9.76000e+00 0.00000e+00 0.00000e+00]\n",
            " [1.86000e+02 1.51131e+00 1.36900e+01 3.20000e+00 1.81000e+00 7.28100e+01\n",
            "  1.76000e+00 5.43000e+00 1.19000e+00 0.00000e+00]]\n"
          ]
        }
      ]
    },
    {
      "cell_type": "code",
      "source": [
        "print(ml.n_support_)"
      ],
      "metadata": {
        "colab": {
          "base_uri": "https://localhost:8080/"
        },
        "id": "OQY2jCyTQH8a",
        "outputId": "cee6d05b-1253-4668-c58c-24f2964647d7"
      },
      "execution_count": 8,
      "outputs": [
        {
          "output_type": "stream",
          "name": "stdout",
          "text": [
            "[1 2 2 2 3 4]\n"
          ]
        }
      ]
    },
    {
      "cell_type": "code",
      "source": [
        "y_pred=ml.predict(x_test)"
      ],
      "metadata": {
        "id": "dW2HswL9QM69"
      },
      "execution_count": 9,
      "outputs": []
    },
    {
      "cell_type": "code",
      "source": [
        "from sklearn.metrics import accuracy_score,confusion_matrix,classification_report\n",
        "print(accuracy_score(y_test,y_pred))"
      ],
      "metadata": {
        "colab": {
          "base_uri": "https://localhost:8080/"
        },
        "id": "hkGjyP--QQ_h",
        "outputId": "6dd012de-a7ac-4035-919c-515bace3e766"
      },
      "execution_count": 10,
      "outputs": [
        {
          "output_type": "stream",
          "name": "stdout",
          "text": [
            "0.9692307692307692\n"
          ]
        }
      ]
    },
    {
      "cell_type": "code",
      "source": [
        "print(confusion_matrix(y_test,y_pred))"
      ],
      "metadata": {
        "colab": {
          "base_uri": "https://localhost:8080/"
        },
        "id": "SBbZ2Bp2QVA0",
        "outputId": "ba3914cb-80a3-49c3-fd65-0140c9b915cb"
      },
      "execution_count": 11,
      "outputs": [
        {
          "output_type": "stream",
          "name": "stdout",
          "text": [
            "[[16  0  0  0  0  0]\n",
            " [ 0 29  0  0  0  0]\n",
            " [ 0  0  5  0  0  0]\n",
            " [ 0  0  2  4  0  0]\n",
            " [ 0  0  0  0  3  0]\n",
            " [ 0  0  0  0  0  6]]\n"
          ]
        }
      ]
    },
    {
      "cell_type": "code",
      "source": [
        "print(classification_report(y_test,y_pred))"
      ],
      "metadata": {
        "colab": {
          "base_uri": "https://localhost:8080/"
        },
        "id": "0XeBD4dmQdHe",
        "outputId": "4f8fd056-dac1-43f6-e6e3-94fa2b9fda5b"
      },
      "execution_count": 12,
      "outputs": [
        {
          "output_type": "stream",
          "name": "stdout",
          "text": [
            "              precision    recall  f1-score   support\n",
            "\n",
            "           1       1.00      1.00      1.00        16\n",
            "           2       1.00      1.00      1.00        29\n",
            "           3       0.71      1.00      0.83         5\n",
            "           5       1.00      0.67      0.80         6\n",
            "           6       1.00      1.00      1.00         3\n",
            "           7       1.00      1.00      1.00         6\n",
            "\n",
            "    accuracy                           0.97        65\n",
            "   macro avg       0.95      0.94      0.94        65\n",
            "weighted avg       0.98      0.97      0.97        65\n",
            "\n"
          ]
        }
      ]
    },
    {
      "cell_type": "code",
      "source": [
        "model1=SVC(kernel='sigmoid')\n",
        "model2=SVC(kernel='poly')\n",
        "model3=SVC(kernel='rbf')"
      ],
      "metadata": {
        "id": "OfsnbZyvQiMU"
      },
      "execution_count": 13,
      "outputs": []
    },
    {
      "cell_type": "code",
      "source": [
        "#With Different Kernels\n",
        "\n",
        "model1.fit(x_train,y_train)\n",
        "model2.fit(x_train,y_train)\n",
        "model3.fit(x_train,y_train)"
      ],
      "metadata": {
        "colab": {
          "base_uri": "https://localhost:8080/"
        },
        "id": "MZz97qO1QmyH",
        "outputId": "e0515b7c-8e51-4124-cab5-3f4f315d12e7"
      },
      "execution_count": 14,
      "outputs": [
        {
          "output_type": "execute_result",
          "data": {
            "text/plain": [
              "SVC()"
            ]
          },
          "metadata": {},
          "execution_count": 14
        }
      ]
    },
    {
      "cell_type": "code",
      "source": [
        "ypred1=model1.predict(x_test)\n",
        "ypred2=model2.predict(x_test)\n",
        "ypred3=model3.predict(x_test)"
      ],
      "metadata": {
        "id": "Ky9Ou7RxQot2"
      },
      "execution_count": 15,
      "outputs": []
    },
    {
      "cell_type": "code",
      "source": [
        "print(accuracy_score(y_test,ypred1))"
      ],
      "metadata": {
        "colab": {
          "base_uri": "https://localhost:8080/"
        },
        "id": "3BKWOYf8Qwc8",
        "outputId": "253ae43e-d8f2-4bd7-c79d-9abec407c8f1"
      },
      "execution_count": 16,
      "outputs": [
        {
          "output_type": "stream",
          "name": "stdout",
          "text": [
            "0.676923076923077\n"
          ]
        }
      ]
    },
    {
      "cell_type": "code",
      "source": [
        "print(accuracy_score(y_test,ypred2))"
      ],
      "metadata": {
        "colab": {
          "base_uri": "https://localhost:8080/"
        },
        "id": "iKwuv-xIQyWW",
        "outputId": "673d75ce-efd4-420e-e47a-e2b9adc4a20f"
      },
      "execution_count": 17,
      "outputs": [
        {
          "output_type": "stream",
          "name": "stdout",
          "text": [
            "0.9692307692307692\n"
          ]
        }
      ]
    },
    {
      "cell_type": "code",
      "source": [
        "print(accuracy_score(y_test,ypred3))"
      ],
      "metadata": {
        "colab": {
          "base_uri": "https://localhost:8080/"
        },
        "id": "Ms8VSTGQQ29W",
        "outputId": "b767317c-c715-4b27-b258-a1c98689e99e"
      },
      "execution_count": 18,
      "outputs": [
        {
          "output_type": "stream",
          "name": "stdout",
          "text": [
            "0.7846153846153846\n"
          ]
        }
      ]
    },
    {
      "cell_type": "code",
      "source": [
        "#Array method of using different kernels\n",
        "\n",
        "[{'kernel':['rbf'],'gamma':[1e-3,1e-4],\n",
        "     'C':[1,10,100,1000]},\n",
        "{'kernel':['linear'],'C':[1,10,100,1000]},\n",
        "{'kernel':['poly'],'gamma':[1e-3,1e-4],'degree':[2,3,4]},\n",
        "{'kernel':['sigmoid'],'C':[1,10,100,1000],'gamma':[1e-3,1e-4,1e-5]}]"
      ],
      "metadata": {
        "colab": {
          "base_uri": "https://localhost:8080/"
        },
        "id": "Tjc0pwjsQ8Mz",
        "outputId": "e2dcbe20-b7b8-4dac-9fd9-47a27a8db040"
      },
      "execution_count": 19,
      "outputs": [
        {
          "output_type": "execute_result",
          "data": {
            "text/plain": [
              "[{'C': [1, 10, 100, 1000], 'gamma': [0.001, 0.0001], 'kernel': ['rbf']},\n",
              " {'C': [1, 10, 100, 1000], 'kernel': ['linear']},\n",
              " {'degree': [2, 3, 4], 'gamma': [0.001, 0.0001], 'kernel': ['poly']},\n",
              " {'C': [1, 10, 100, 1000],\n",
              "  'gamma': [0.001, 0.0001, 1e-05],\n",
              "  'kernel': ['sigmoid']}]"
            ]
          },
          "metadata": {},
          "execution_count": 19
        }
      ]
    },
    {
      "cell_type": "code",
      "source": [
        "params_grid1=[{'kernel':['rbf']},\n",
        "             {'kernel':['linear']},\n",
        "             {'kernel':['poly']},\n",
        "             {'kernel':['sigmoid']}]"
      ],
      "metadata": {
        "id": "pvy_5KMqRA9I"
      },
      "execution_count": 20,
      "outputs": []
    },
    {
      "cell_type": "code",
      "source": [
        "from sklearn.model_selection import GridSearchCV\n",
        "svm_model=GridSearchCV(SVC(),params_grid1,cv=5)\n",
        "svm_model.fit(x_train,y_train)"
      ],
      "metadata": {
        "colab": {
          "base_uri": "https://localhost:8080/"
        },
        "id": "0lCZfMckRGCG",
        "outputId": "c9fe6e82-5ed4-46a4-e226-f7c23db4ca9d"
      },
      "execution_count": 21,
      "outputs": [
        {
          "output_type": "execute_result",
          "data": {
            "text/plain": [
              "GridSearchCV(cv=5, estimator=SVC(),\n",
              "             param_grid=[{'kernel': ['rbf']}, {'kernel': ['linear']},\n",
              "                         {'kernel': ['poly']}, {'kernel': ['sigmoid']}])"
            ]
          },
          "metadata": {},
          "execution_count": 21
        }
      ]
    },
    {
      "cell_type": "code",
      "source": [
        "print('Best score for training data:',svm_model.best_score_,\"\\n\")\n",
        "\n",
        "#View the best parameters for the model found using grid search\n",
        "print('Best C:',svm_model.best_estimator_.C,\"\\n\")\n",
        "print('Best Kernel:',svm_model.best_estimator_.kernel,\"\\n\")\n",
        "print('Best Gamma:',svm_model.best_estimator_.gamma,\"\\n\")\n",
        "\n",
        "final_model=svm_model.best_estimator_\n",
        "Y_pred=final_model.predict(x_test)"
      ],
      "metadata": {
        "colab": {
          "base_uri": "https://localhost:8080/"
        },
        "id": "LUNKYtpWRNP5",
        "outputId": "a8694735-387b-48bb-b384-0eda16bef63f"
      },
      "execution_count": 22,
      "outputs": [
        {
          "output_type": "stream",
          "name": "stdout",
          "text": [
            "Best score for training data: 0.9933333333333334 \n",
            "\n",
            "Best C: 1.0 \n",
            "\n",
            "Best Kernel: linear \n",
            "\n",
            "Best Gamma: scale \n",
            "\n"
          ]
        }
      ]
    },
    {
      "cell_type": "code",
      "source": [
        "print(accuracy_score(y_test,Y_pred))"
      ],
      "metadata": {
        "colab": {
          "base_uri": "https://localhost:8080/"
        },
        "id": "rF9002BcRPnW",
        "outputId": "38597d71-3a0c-4a24-fc0f-4e901ce2485b"
      },
      "execution_count": 23,
      "outputs": [
        {
          "output_type": "stream",
          "name": "stdout",
          "text": [
            "0.9692307692307692\n"
          ]
        }
      ]
    }
  ]
}
{
 "cells": [
  {
   "cell_type": "code",
   "execution_count": 5,
   "metadata": {},
   "outputs": [
    {
     "name": "stdout",
     "output_type": "stream",
     "text": [
      "1 2 3 4 5\n",
      "mean of array of elements: 3.0\n",
      "[1, 2, 3, 4, 5]\n",
      "median of array of elements : 3\n",
      "mode : 1\n",
      "variance is: 2.5\n",
      "deviation is: 1.5811388300841898\n"
     ]
    }
   ],
   "source": [
    "import math\n",
    "arr=list(map(int,input().split()))\n",
    "mean=sum(arr)/len(arr)\n",
    "print(\"mean of array of elements:\",mean)\n",
    "arr.sort()\n",
    "if(len(arr)%2==0):\n",
    "    median=(arr[(len(arr)//2)-1]+arr[(len(arr)//2)])/2\n",
    "else:\n",
    "    median=arr[(len(arr)//2)]\n",
    "print(arr)\n",
    "print(\"median of array of elements :\",median)\n",
    "i=0\n",
    "c=[]\n",var = sum((x-avg)**2 for x in lst) / len(lst)
    "l=[]\n",
    "while(i<len(arr)):\n",
    "    j=0\n",
    "    count=0\n",
    "    while(j<len(arr)):\n",
    "        if(arr[i]==arr[j]):\n",
    "            count+=1\n",
    "        j+=1\n",
    "    c.append(count)\n",
    "    l.append(arr[i])\n",
    "    i+=count\n",
    "ind=c.index(max(c))\n",
    "mode=l[ind]\n",
    "print(\"mode :\",mode)\n",
    "\n",
    "var = sum((x-mean)**2 for x in arr) / (len(arr)-1)\n",
    "print(\"variance is:\",var)\n",
    "deviation=math.sqrt(var)\n",
    "print(\"deviation is:\",deviation)\n",
    "                                     "
   ]
  },
  {
   "cell_type": "code",
   "execution_count": 6,
   "metadata": {},
   "outputs": [
    {
     "name": "stdout",
     "output_type": "stream",
     "text": [
      "1 2 3 4 5\n",
      "3\n",
      "3\n",var = sum((x-avg)**2 for x in lst) / len(lst)
      "1\n",
      "2.5\n",
      "1.5811388300841898\n"
     ]
    }
   ],
   "source": [
    "import statistics as st\n",
    "arr=list(map(int,input().split()))\n",
    "print(\"mean:\",st.mean(arr))\n",var = sum((x-avg)**2 for x in lst) / len(lst)
    "print(\"median:\"st.median(arr))\n",
    "print(\"mode:\"st.mode(arr))\n",
    "print(st.variance(arr))\n",
    "print(st.stdev(arr))\n"
   ]
  },
  {
   "cell_type": "code",
   "execution_count": null,
   "metadata": {},
   "outputs": [],
   "source": []
  }
 ],
 "metadata": {
  "kernelspec": {
   "display_name": "Python 3",
   "language": "python",
   "name": "python3"
  },
  "language_info": {
   "codemirror_mode": {
    "name": "ipython",
    "version": 3
   },
   "file_extension": ".py",
   "mimetype": "text/x-python",
   "name": "python",
   "nbconvert_exporter": "python",
   "pygments_lexer": "ipython3",
   "version": "3.8.5"
  }
 },
 "nbformat": 4,
 "nbformat_minor": 4
}

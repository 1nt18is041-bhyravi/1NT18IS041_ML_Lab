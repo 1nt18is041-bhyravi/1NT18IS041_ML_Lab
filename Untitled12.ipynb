{
 "cells": [
  {
   "cell_type": "code",
   "execution_count": 31,
   "metadata": {},
   "outputs": [
    {
     "name": "stdout",
     "output_type": "stream",
     "text": [
      "          x         y\n",
      "0    6.1101  17.59200\n",
      "1    5.5277   9.13020\n",
      "2    8.5186  13.66200\n",
      "3    7.0032  11.85400\n",
      "4    5.8598   6.82330\n",
      "..      ...       ...\n",
      "92   5.8707   7.20290\n",
      "93   5.3054   1.98690\n",
      "94   8.2934   0.14454\n",
      "95  13.3940   9.05510\n",
      "96   5.4369   0.61705\n",
      "\n",
      "[97 rows x 2 columns]\n",
      "standard deviation of x: 3.8698835278823314\n",
      "standard deviation of y: 5.510262255231544\n",
      "correlation co-efficient: 0.8378732325263407\n",
      "slope: 1.1930336441895935\n",
      "8.1598 5.839135051546392\n",
      "c: -3.895780878311853\n",
      "0     14.198226\n",
      "1      6.431249\n",
      "2      7.394804\n",
      "3      7.394728\n",
      "4      3.728142\n",
      "        ...    \n",
      "92     4.094738\n",
      "93     0.446840\n",
      "94     5.853984\n",
      "95     3.028612\n",
      "96     1.973574\n",
      "Name: y, Length: 97, dtype: float64\n",
      "SSE 868.5324469391844\n",
      "sst 2914.8470516572247\n",
      "ssr 2046.3146047180385\n",
      "rsq 0.7020315537841392\n"
     ]
    },
    {
     "data": {
      "image/png": "[encoded data removed]",
      "text/plain": [
       "<Figure size 432x288 with 1 Axes>"
      ]
     },
     "metadata": {
      "needs_background": "light"
     },
     "output_type": "display_data"
    }
   ],
   "source": [
    "\n",
    "import pandas as pd \n",
    "import statistics as st\n",
    "import math\n",
    "import scipy.stats\n",
    "import matplotlib.pyplot as plt\n",
    "data = pd.read_csv(\"food-truck.csv\") \n",
    "print(data)\n",
    "sx=st.stdev(data['x'])\n",
    "print(\"standard deviation of x:\",sx)\n",
    "sy=st.stdev(data['y'])\n",
    "print(\"standard deviation of y:\",sy)\n",
    "r=scipy.stats.pearsonr(data['x'],data['y'])[0]\n",
    "print(\"correlation co-efficient:\",r)\n",
    "slope=r*sy/sx\n",
    "print(\"slope:\",slope)\n",
    "mx=st.mean(data['x'])\n",
    "my=st.mean(data['y'])\n",
    "print(mx,my)\n",
    "\n",
    "c=my-slope*mx\n",
    "print(\"c:\",c)\n",
    "\n",
    "y1=[]\n",
    "for i in range(len(data)):\n",
    "    y1.append(slope*data['x'][i]+c)\n",
    "#print(ya)\n",
    "plt.scatter(data['x'],data['y'])\n",
    "plt.plot(data['x'],y1,color=\"red\")\n",
    "\n",
    "cost=abs(data['y']-y1)\n",
    "print(cost)\n",
    "\n",
    "SSE=sum(cost**2)\n",
    "print(\"SSE\",SSE)\n",
    "\n",
    "sst=sum((data['y']-st.mean(data['y']))**2)\n",
    "print(\"sst\",sst)\n",
    "\n",
    "SSR=sum((y1-st.mean(y1))**2)\n",
    "print(\"ssr\",SSR)\n",
    "\n",
    "\n",
    "Rsq=SSR/sst\n",
    "print(\"rsq\",Rsq)"
   ]
  },
  {
   "cell_type": "code",
   "execution_count": null,
   "metadata": {},
   "outputs": [],
   "source": []
  },
  {
   "cell_type": "code",
   "execution_count": null,
   "metadata": {},
   "outputs": [],
   "source": []
  },
  {
   "cell_type": "code",
   "execution_count": null,
   "metadata": {},
   "outputs": [],
   "source": []
  },
  {
   "cell_type": "code",
   "execution_count": null,
   "metadata": {},
   "outputs": [],
   "source": []
  }
 ],
 "metadata": {
  "kernelspec": {
   "display_name": "Python 3",
   "language": "python",
   "name": "python3"
  },
  "language_info": {
   "codemirror_mode": {
    "name": "ipython",
    "version": 3
   },
   "file_extension": ".py",
   "mimetype": "text/x-python",
   "name": "python",
   "nbconvert_exporter": "python",
   "pygments_lexer": "ipython3",
   "version": "3.8.5"
  }
 },
 "nbformat": 4,
 "nbformat_minor": 4
}
